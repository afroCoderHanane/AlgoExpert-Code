{
  "nbformat": 4,
  "nbformat_minor": 0,
  "metadata": {
    "colab": {
      "name": "AlgoExpert.ipynb",
      "provenance": [],
      "authorship_tag": "ABX9TyOS/pXm5PPtzQyfWm34Qrrn",
      "include_colab_link": true
    },
    "kernelspec": {
      "name": "python3",
      "display_name": "Python 3"
    },
    "language_info": {
      "name": "python"
    }
  },
  "cells": [
    {
      "cell_type": "markdown",
      "metadata": {
        "id": "view-in-github",
        "colab_type": "text"
      },
      "source": [
        "<a href=\"https://colab.research.google.com/github/afroCoderHanane/AlgoExpert-Code/blob/main/AlgoExpert.ipynb\" target=\"_parent\"><img src=\"https://colab.research.google.com/assets/colab-badge.svg\" alt=\"Open In Colab\"/></a>"
      ]
    },
    {
      "cell_type": "markdown",
      "source": [
        "# Neetcode / Algo expert"
      ],
      "metadata": {
        "id": "TIhvGmfM1wQr"
      }
    },
    {
      "cell_type": "markdown",
      "source": [
        "# Arrays & Hashing"
      ],
      "metadata": {
        "id": "4MqFaPDh0xDe"
      }
    },
    {
      "cell_type": "markdown",
      "source": [
        "### Valid Anagram\n",
        "\n",
        "https://leetcode.com/problems/valid-anagram/  \n",
        "      \n",
        "Level: Easy"
      ],
      "metadata": {
        "id": "P1xDujt717L1"
      }
    },
    {
      "cell_type": "code",
      "source": [
        "class Solution(object):\n",
        "    def isAnagram(self, s, t):\n",
        "        \"\"\"\n",
        "        :type s: str\n",
        "        :type t: str\n",
        "        :rtype: bool\n",
        "        \"\"\"\n",
        "        \n",
        "        if len(s) != len(t):\n",
        "            return False\n",
        "        \n",
        "        dic_s, dic_t={},{}\n",
        "        \n",
        "        for i in range(len(s)):\n",
        "            if s[i] not in dic_s:\n",
        "                dic_s[s[i]]= 0\n",
        "            if t[i] not in dic_t:\n",
        "                dic_t[t[i]]= 0\n",
        "            dic_s[s[i]]+=1\n",
        "            \n",
        "            dic_t[t[i]]+= 1\n",
        "        return dic_s == dic_t\n",
        "            "
      ],
      "metadata": {
        "id": "1TKfM04z16vM"
      },
      "execution_count": null,
      "outputs": []
    },
    {
      "cell_type": "markdown",
      "source": [
        "### Two sum\n",
        "https://leetcode.com/problems/two-sum/\n",
        "\n",
        "Level: Easy"
      ],
      "metadata": {
        "id": "KH3tqJZ52j9t"
      }
    },
    {
      "cell_type": "code",
      "execution_count": null,
      "metadata": {
        "id": "FlwKQRktS8et"
      },
      "outputs": [],
      "source": [
        "class Solution(object):\n",
        "    def twoSum(self, nums, target):\n",
        "        \"\"\"\n",
        "        :type nums: List[int]\n",
        "        :type target: int\n",
        "        :rtype: List[int]\n",
        "        \"\"\"\n",
        "        for i,x in enumerate(nums):\n",
        "            y = target - x\n",
        "            if y in nums and nums.index(y) != i:\n",
        "                return [i, nums.index(y)]\n",
        "        return []"
      ]
    },
    {
      "cell_type": "markdown",
      "source": [
        "\n",
        "### Contains Duplicate \n",
        "https://leetcode.com/problems/contains-duplicate/\n",
        "\n",
        "Level: Easy"
      ],
      "metadata": {
        "id": "vS6Pg_rB2seZ"
      }
    },
    {
      "cell_type": "code",
      "source": [
        "class Solution(object):\n",
        "    def containsDuplicate(self, nums):\n",
        "        \"\"\"\n",
        "        :type nums: List[int]\n",
        "        :rtype: bool\n",
        "        \"\"\"\n",
        "        dic ={}\n",
        "        for i in nums:\n",
        "            if i not in dic:\n",
        "                dic[i] = True\n",
        "            else:\n",
        "                return True\n",
        "        return False"
      ],
      "metadata": {
        "id": "_elUQJzN2tdm"
      },
      "execution_count": null,
      "outputs": []
    },
    {
      "cell_type": "markdown",
      "source": [
        "###  group anagrams\n",
        "\n",
        "https://leetcode.com/problems/group-anagrams/\n",
        "\n",
        "Level: Medium"
      ],
      "metadata": {
        "id": "OE8VN-2IpVMz"
      }
    },
    {
      "cell_type": "code",
      "source": [
        "class Solution(object):\n",
        "    def groupAnagrams(self, strs):\n",
        "        \"\"\"\n",
        "        :type strs: List[str]\n",
        "        :rtype: List[List[str]]\n",
        "        \"\"\"\n",
        "        dic_strs = {}\n",
        "        result = []\n",
        "        for x in strs:\n",
        "            sorted_str = ''.join(sorted(x))\n",
        "            if sorted_str not in dic_strs:\n",
        "                dic_strs[sorted_str]=[]\n",
        "            dic_strs[sorted_str].append(x)\n",
        "        \n",
        "        for x in dic_strs:\n",
        "            result.append(dic_strs[x])\n",
        "        return result"
      ],
      "metadata": {
        "id": "rIjYcBAt1Ywr"
      },
      "execution_count": null,
      "outputs": []
    },
    {
      "cell_type": "markdown",
      "source": [
        "### Top K frequent elements \n",
        "https://leetcode.com/problems/top-k-frequent-elements/\n",
        "\n",
        "Level: Medium"
      ],
      "metadata": {
        "id": "i3FzCjNSSvNv"
      }
    },
    {
      "cell_type": "code",
      "source": [
        "class Solution(object):\n",
        "    def topKFrequent(self, nums, k):\n",
        "        \"\"\"\n",
        "        :type nums: List[int]\n",
        "        :type k: int\n",
        "        :rtype: List[int]\n",
        "        \"\"\"\n",
        "        nums_dic={}\n",
        "        result=[[]for i in range(len(nums)+1)]\n",
        "        res=[]\n",
        "        for x in nums:\n",
        "            nums_dic[x]= 1 + nums_dic.get(x,0)\n",
        "        \n",
        "        for num, value in nums_dic.items():\n",
        "            result[value].append(num)\n",
        "            \n",
        "        for i in range(len(result)-1, 0, -1):\n",
        "            for n in result[i]:\n",
        "                res.append(n)\n",
        "                if len(res)==k:\n",
        "                    return res"
      ],
      "metadata": {
        "id": "aaUckcUsSuhm"
      },
      "execution_count": null,
      "outputs": []
    },
    {
      "cell_type": "markdown",
      "source": [
        "### Product of Array Except Self\n",
        "https://leetcode.com/problems/product-of-array-except-self/\n",
        "\n",
        "Level: Medium "
      ],
      "metadata": {
        "id": "-5m8aekN5F-C"
      }
    },
    {
      "cell_type": "markdown",
      "source": [
        "#### Solution 1:\n",
        "\n",
        ">Time Complexity: O(n)\n",
        ">\n",
        ">Space Complexity: O(n)"
      ],
      "metadata": {
        "id": "_sarlNJHeIlQ"
      }
    },
    {
      "cell_type": "code",
      "source": [
        "class Solution(object):\n",
        "    def productExceptSelf(self, nums):\n",
        "        \"\"\"\n",
        "        :type nums: List[int]\n",
        "        :rtype: List[int]\n",
        "        \"\"\"\n",
        "        prefix = []\n",
        "        postfix = [0 for i in range (len(nums))]\n",
        "        result = []\n",
        "        \n",
        "        for i, x in enumerate(nums):\n",
        "            if i == 0:\n",
        "                prefix.append(x)\n",
        "            else:\n",
        "                prefix.append(x*prefix[i-1])\n",
        "        \n",
        "        for j in range(len(nums)-1, -1, -1):\n",
        "            if j == len(nums)-1:\n",
        "                postfix[j] = nums[-1]\n",
        "            else:\n",
        "                postfix[j] = nums[j]*postfix[j+1]\n",
        "                \n",
        "        for i in range(len(prefix)):\n",
        "            if i == 0:\n",
        "                x = 1*postfix[i+1]\n",
        "            elif i == len(prefix)-1:\n",
        "                x = prefix[i-1]*1\n",
        "            else:\n",
        "                x = prefix[i-1]*postfix[i+1]\n",
        "            result.append(x)\n",
        "        return result"
      ],
      "metadata": {
        "id": "RFMRGziK5qqC"
      },
      "execution_count": null,
      "outputs": []
    },
    {
      "cell_type": "markdown",
      "source": [
        "#### Solution 2:\n",
        "\n",
        ">Time Complexity: O(n)\n",
        ">\n",
        ">Space Complexity: O(1)"
      ],
      "metadata": {
        "id": "JWNIYmiHesOv"
      }
    },
    {
      "cell_type": "code",
      "source": [
        "class Solution:\n",
        "    def productExceptSelf(self, nums: List[int]) -> List[int]:\n",
        "        res = [1]*len(nums)\n",
        "        prefix = 1\n",
        "        for i in range(len(nums)):\n",
        "            res[i] = prefix\n",
        "            prefix *= nums[i]\n",
        "        postfix =1\n",
        "        for i in range(len(nums)-1, -1, -1):\n",
        "            res[i] *= postfix\n",
        "            postfix *=nums[i]\n",
        "        return res"
      ],
      "metadata": {
        "id": "6qmliIZJe3U-"
      },
      "execution_count": null,
      "outputs": []
    },
    {
      "cell_type": "markdown",
      "source": [
        "## Valid Sudoku\n",
        "\n",
        "https://leetcode.com/problems/valid-sudoku/\n",
        "\n",
        "Level: Medium"
      ],
      "metadata": {
        "id": "FpPPhZeytfZI"
      }
    },
    {
      "cell_type": "code",
      "source": [
        "class Solution:\n",
        "    def isValidSudoku(self, board: List[List[str]]) -> bool:\n",
        "        rows = defaultdict(set)\n",
        "        cols = defaultdict(set)\n",
        "        sub_box = defaultdict(set)\n",
        "        #https://docs.python.org/3/library/collections.html\n",
        "        \n",
        "        for r in range(9):\n",
        "            for c in range(9):\n",
        "                if board[r][c] == \".\":\n",
        "                    continue\n",
        "                if board[r][c] in rows[r] or board[r][c] in cols[c] or board[r][c] in sub_box[(r//3,c//3)]:\n",
        "                    return False\n",
        "                rows[r].add(board[r][c])\n",
        "                cols[c].add(board[r][c])\n",
        "                sub_box[(r//3,c//3)].add(board[r][c])\n",
        "        return True"
      ],
      "metadata": {
        "id": "bLdqOANxte8j"
      },
      "execution_count": null,
      "outputs": []
    },
    {
      "cell_type": "markdown",
      "source": [
        "## Encode and Decode Strings [Caesar Cypher]\n",
        "https://www.lintcode.com/problem/659/\n",
        "\n",
        "Level: Medium "
      ],
      "metadata": {
        "id": "pTavEwUwteiv"
      }
    },
    {
      "cell_type": "code",
      "source": [
        "class Solution:\n",
        "    \"\"\"\n",
        "    @param: strs: a list of strings\n",
        "    @return: encodes a list of strings to a single string.\n",
        "    \"\"\"\n",
        "    \n",
        "    def encode(self, strs):\n",
        "        # write your code here\n",
        "        str_text = ' '.join(strs)\n",
        "        key = 4\n",
        "        result =\"\"\n",
        "        for x in str_text:\n",
        "            if x.isalpha():\n",
        "                if x.islower():\n",
        "                    result += chr((ord(x)+key -65)%26 + 65)\n",
        "                else:\n",
        "                    result += chr((ord(x)+key -97)%26 + 97)\n",
        "            else:\n",
        "                result += x\n",
        "        \n",
        "        return result\n",
        "\n",
        "\n",
        "    \"\"\"\n",
        "    @param: str: A string\n",
        "    @return: dcodes a single string to a list of strings\n",
        "    \"\"\"\n",
        "    def decode(self, str):\n",
        "        # write your code here\n",
        "        key = 4\n",
        "        result = \"\"\n",
        "        for char in str:\n",
        "            if char.isalpha():\n",
        "                if char.islower():\n",
        "                    result += chr((ord(char)-key -65)%26 + 65)\n",
        "                else:\n",
        "                    result += chr((ord(char)-key -97)%26 + 97)\n",
        "            else:\n",
        "                result+=char\n",
        "        result = result.split(\" \")\n",
        "        return result \n"
      ],
      "metadata": {
        "id": "oelqa30l1UdP"
      },
      "execution_count": null,
      "outputs": []
    },
    {
      "cell_type": "markdown",
      "source": [
        "## Longest Consecutive Sequence\n",
        "https://leetcode.com/problems/longest-consecutive-sequence/\n",
        "\n",
        "Level: Medium"
      ],
      "metadata": {
        "id": "zTuzp-mOKdhB"
      }
    },
    {
      "cell_type": "code",
      "source": [
        "class Solution:\n",
        "    def longestConsecutive(self, nums: List[int]) -> int:\n",
        "        set_nums= set(nums)\n",
        "        longest_count = 0\n",
        "        \n",
        "        for num in set_nums:\n",
        "                count=0\n",
        "                if num - 1 not in set_nums:\n",
        "                    current_num = num\n",
        "                    count +=1\n",
        "                    while current_num + 1 in set_nums:\n",
        "                        count+=1\n",
        "                        current_num+=1\n",
        "                    longest_count= max(longest_count, count)\n",
        "        return longest_count"
      ],
      "metadata": {
        "id": "1XHoq3SlKcCC"
      },
      "execution_count": null,
      "outputs": []
    },
    {
      "cell_type": "markdown",
      "source": [
        "# Two Pointers"
      ],
      "metadata": {
        "id": "JYIXG7R4N68r"
      }
    },
    {
      "cell_type": "markdown",
      "source": [
        "## Valid Palindrome\n",
        "\n",
        "https://leetcode.com/problems/valid-palindrome/\n",
        "\n",
        "Level: Medium"
      ],
      "metadata": {
        "id": "U9eWx37cKlMm"
      }
    },
    {
      "cell_type": "code",
      "source": [
        "class Solution:\n",
        "    def isPalindrome(self, s: str) -> bool:\n",
        "        clean_str=\"\"\n",
        "        for char in s:\n",
        "            if char.isalpha() or char.isdigit():\n",
        "                clean_str+=char.lower()\n",
        "        return clean_str == clean_str[::-1]"
      ],
      "metadata": {
        "id": "VOiA9shSNeVk"
      },
      "execution_count": null,
      "outputs": []
    }
  ]
}