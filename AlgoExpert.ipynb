{
  "nbformat": 4,
  "nbformat_minor": 0,
  "metadata": {
    "colab": {
      "name": "AlgoExpert.ipynb",
      "provenance": [],
      "authorship_tag": "ABX9TyPoJ78CdLsWbXQbot2CMQx8",
      "include_colab_link": true
    },
    "kernelspec": {
      "name": "python3",
      "display_name": "Python 3"
    },
    "language_info": {
      "name": "python"
    }
  },
  "cells": [
    {
      "cell_type": "markdown",
      "metadata": {
        "id": "view-in-github",
        "colab_type": "text"
      },
      "source": [
        "<a href=\"https://colab.research.google.com/github/afroCoderHanane/AlgoExpert-Code/blob/main/AlgoExpert.ipynb\" target=\"_parent\"><img src=\"https://colab.research.google.com/assets/colab-badge.svg\" alt=\"Open In Colab\"/></a>"
      ]
    },
    {
      "cell_type": "code",
      "source": [
        ""
      ],
      "metadata": {
        "id": "7Kyx82pRmZWA"
      },
      "execution_count": null,
      "outputs": []
    },
    {
      "cell_type": "markdown",
      "source": [
        "# Neetcode / Algo expert"
      ],
      "metadata": {
        "id": "TIhvGmfM1wQr"
      }
    },
    {
      "cell_type": "markdown",
      "source": [
        "# Arrays & Hashing"
      ],
      "metadata": {
        "id": "4MqFaPDh0xDe"
      }
    },
    {
      "cell_type": "markdown",
      "source": [
        "https://leetcode.com/problems/valid-anagram/        \n",
        "Level: Easy"
      ],
      "metadata": {
        "id": "P1xDujt717L1"
      }
    },
    {
      "cell_type": "code",
      "source": [
        "class Solution(object):\n",
        "    def isAnagram(self, s, t):\n",
        "        \"\"\"\n",
        "        :type s: str\n",
        "        :type t: str\n",
        "        :rtype: bool\n",
        "        \"\"\"\n",
        "        \n",
        "        if len(s) != len(t):\n",
        "            return False\n",
        "        \n",
        "        dic_s, dic_t={},{}\n",
        "        \n",
        "        for i in range(len(s)):\n",
        "            if s[i] not in dic_s:\n",
        "                dic_s[s[i]]= 0\n",
        "            if t[i] not in dic_t:\n",
        "                dic_t[t[i]]= 0\n",
        "            dic_s[s[i]]+=1\n",
        "            \n",
        "            dic_t[t[i]]+= 1\n",
        "        return dic_s == dic_t\n",
        "            "
      ],
      "metadata": {
        "id": "1TKfM04z16vM"
      },
      "execution_count": null,
      "outputs": []
    },
    {
      "cell_type": "markdown",
      "source": [
        "https://leetcode.com/problems/two-sum/\n",
        "\n",
        "Level: Easy"
      ],
      "metadata": {
        "id": "KH3tqJZ52j9t"
      }
    },
    {
      "cell_type": "code",
      "execution_count": null,
      "metadata": {
        "id": "FlwKQRktS8et"
      },
      "outputs": [],
      "source": [
        "class Solution(object):\n",
        "    def twoSum(self, nums, target):\n",
        "        \"\"\"\n",
        "        :type nums: List[int]\n",
        "        :type target: int\n",
        "        :rtype: List[int]\n",
        "        \"\"\"\n",
        "        for i,x in enumerate(nums):\n",
        "            y = target - x\n",
        "            if y in nums and nums.index(y) != i:\n",
        "                return [i, nums.index(y)]\n",
        "        return []"
      ]
    },
    {
      "cell_type": "markdown",
      "source": [
        "https://leetcode.com/problems/contains-duplicate/\n",
        "\n",
        "Level: Easy"
      ],
      "metadata": {
        "id": "vS6Pg_rB2seZ"
      }
    },
    {
      "cell_type": "code",
      "source": [
        "class Solution(object):\n",
        "    def containsDuplicate(self, nums):\n",
        "        \"\"\"\n",
        "        :type nums: List[int]\n",
        "        :rtype: bool\n",
        "        \"\"\"\n",
        "        dic ={}\n",
        "        for i in nums:\n",
        "            if i not in dic:\n",
        "                dic[i] = True\n",
        "            else:\n",
        "                return True\n",
        "        return False"
      ],
      "metadata": {
        "id": "_elUQJzN2tdm"
      },
      "execution_count": null,
      "outputs": []
    },
    {
      "cell_type": "markdown",
      "source": [
        "https://leetcode.com/problems/group-anagrams/\n",
        "\n",
        "Level: Medium"
      ],
      "metadata": {
        "id": "OE8VN-2IpVMz"
      }
    },
    {
      "cell_type": "code",
      "source": [
        "class Solution(object):\n",
        "    def groupAnagrams(self, strs):\n",
        "        \"\"\"\n",
        "        :type strs: List[str]\n",
        "        :rtype: List[List[str]]\n",
        "        \"\"\"\n",
        "        dic_strs = {}\n",
        "        result = []\n",
        "        for x in strs:\n",
        "            sorted_str = ''.join(sorted(x))\n",
        "            if sorted_str not in dic_strs:\n",
        "                dic_strs[sorted_str]=[]\n",
        "            dic_strs[sorted_str].append(x)\n",
        "        \n",
        "        for x in dic_strs:\n",
        "            result.append(dic_strs[x])\n",
        "        return result"
      ],
      "metadata": {
        "id": "rIjYcBAt1Ywr"
      },
      "execution_count": null,
      "outputs": []
    },
    {
      "cell_type": "markdown",
      "source": [
        "https://leetcode.com/problems/top-k-frequent-elements/\n",
        "\n",
        "Level: Medium"
      ],
      "metadata": {
        "id": "i3FzCjNSSvNv"
      }
    },
    {
      "cell_type": "code",
      "source": [
        "class Solution(object):\n",
        "    def topKFrequent(self, nums, k):\n",
        "        \"\"\"\n",
        "        :type nums: List[int]\n",
        "        :type k: int\n",
        "        :rtype: List[int]\n",
        "        \"\"\"\n",
        "        nums_dic={}\n",
        "        result=[[]for i in range(len(nums)+1)]\n",
        "        res=[]\n",
        "        for x in nums:\n",
        "            nums_dic[x]= 1 + nums_dic.get(x,0)\n",
        "        \n",
        "        for num, value in nums_dic.items():\n",
        "            result[value].append(num)\n",
        "            \n",
        "        for i in range(len(result)-1, 0, -1):\n",
        "            for n in result[i]:\n",
        "                res.append(n)\n",
        "                if len(res)==k:\n",
        "                    return res"
      ],
      "metadata": {
        "id": "aaUckcUsSuhm"
      },
      "execution_count": null,
      "outputs": []
    }
  ]
}