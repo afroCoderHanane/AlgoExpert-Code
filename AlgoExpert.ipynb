{
  "nbformat": 4,
  "nbformat_minor": 0,
  "metadata": {
    "colab": {
      "name": "AlgoExpert.ipynb",
      "provenance": [],
      "authorship_tag": "ABX9TyN8ENQ78LfUJ1xUS7N6bk1p",
      "include_colab_link": true
    },
    "kernelspec": {
      "name": "python3",
      "display_name": "Python 3"
    },
    "language_info": {
      "name": "python"
    }
  },
  "cells": [
    {
      "cell_type": "markdown",
      "metadata": {
        "id": "view-in-github",
        "colab_type": "text"
      },
      "source": [
        "<a href=\"https://colab.research.google.com/github/afroCoderHanane/AlgoExpert-Code/blob/main/AlgoExpert.ipynb\" target=\"_parent\"><img src=\"https://colab.research.google.com/assets/colab-badge.svg\" alt=\"Open In Colab\"/></a>"
      ]
    },
    {
      "cell_type": "markdown",
      "source": [
        "# Neetcode / Algo expert"
      ],
      "metadata": {
        "id": "TIhvGmfM1wQr"
      }
    },
    {
      "cell_type": "markdown",
      "source": [
        "https://leetcode.com/problems/valid-anagram/        \n",
        "Level: Easy"
      ],
      "metadata": {
        "id": "P1xDujt717L1"
      }
    },
    {
      "cell_type": "code",
      "source": [
        "class Solution(object):\n",
        "    def isAnagram(self, s, t):\n",
        "        \"\"\"\n",
        "        :type s: str\n",
        "        :type t: str\n",
        "        :rtype: bool\n",
        "        \"\"\"\n",
        "        \n",
        "        if len(s) != len(t):\n",
        "            return False\n",
        "        \n",
        "        dic_s, dic_t={},{}\n",
        "        \n",
        "        for i in range(len(s)):\n",
        "            if s[i] not in dic_s:\n",
        "                dic_s[s[i]]= 0\n",
        "            if t[i] not in dic_t:\n",
        "                dic_t[t[i]]= 0\n",
        "            dic_s[s[i]]+=1\n",
        "            \n",
        "            dic_t[t[i]]+= 1\n",
        "        return dic_s == dic_t\n",
        "            "
      ],
      "metadata": {
        "id": "1TKfM04z16vM"
      },
      "execution_count": null,
      "outputs": []
    },
    {
      "cell_type": "markdown",
      "source": [
        "https://leetcode.com/problems/two-sum/\n",
        "\n",
        "Level: Easy"
      ],
      "metadata": {
        "id": "KH3tqJZ52j9t"
      }
    },
    {
      "cell_type": "code",
      "execution_count": null,
      "metadata": {
        "id": "FlwKQRktS8et"
      },
      "outputs": [],
      "source": [
        "class Solution(object):\n",
        "    def twoSum(self, nums, target):\n",
        "        \"\"\"\n",
        "        :type nums: List[int]\n",
        "        :type target: int\n",
        "        :rtype: List[int]\n",
        "        \"\"\"\n",
        "        for i,x in enumerate(nums):\n",
        "            y = target - x\n",
        "            if y in nums and nums.index(y) != i:\n",
        "                return [i, nums.index(y)]\n",
        "        return []"
      ]
    },
    {
      "cell_type": "markdown",
      "source": [
        "https://leetcode.com/problems/contains-duplicate/\n",
        "\n",
        "Level: Easy"
      ],
      "metadata": {
        "id": "vS6Pg_rB2seZ"
      }
    },
    {
      "cell_type": "code",
      "source": [
        "class Solution(object):\n",
        "    def containsDuplicate(self, nums):\n",
        "        \"\"\"\n",
        "        :type nums: List[int]\n",
        "        :rtype: bool\n",
        "        \"\"\"\n",
        "        dic ={}\n",
        "        for i in nums:\n",
        "            if i not in dic:\n",
        "                dic[i] = True\n",
        "            else:\n",
        "                return True\n",
        "        return False"
      ],
      "metadata": {
        "id": "_elUQJzN2tdm"
      },
      "execution_count": null,
      "outputs": []
    }
  ]
}